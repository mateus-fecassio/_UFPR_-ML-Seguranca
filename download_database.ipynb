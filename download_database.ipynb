{
  "cells": [
    {
      "cell_type": "code",
      "execution_count": 1,
      "metadata": {
        "id": "Wmn677ugvgZz"
      },
      "outputs": [],
      "source": [
        "import sys\n",
        "import json\n",
        "import numpy as np\n",
        "import pandas as pd\n",
        "from glob import glob\n",
        "import os \n",
        "from os.path import join\n",
        "import json\n",
        "from datetime import date\n",
        "import time\n",
        "import timeit\n",
        "\n",
        "from sseclient import SSEClient as EventSource\n",
        "\n",
        "pd.set_option('display.max_rows', None)"
      ]
    },
    {
      "cell_type": "code",
      "execution_count": 2,
      "metadata": {},
      "outputs": [
        {
          "data": {
            "text/plain": [
              "['1024_UDP.pkl',\n",
              " '11000_UDP.pkl',\n",
              " '11888_UDP.pkl',\n",
              " '12350_TCP.pkl',\n",
              " '137_UDP.pkl',\n",
              " '138_UDP.pkl',\n",
              " '139_TCP.pkl',\n",
              " '1900_UDP.pkl',\n",
              " '22_TCP_SSH.pkl',\n",
              " '27017_UDP.pkl',\n",
              " '27018_UDP.pkl',\n",
              " '27019_UDP.pkl',\n",
              " '27020_UDP.pkl',\n",
              " '27021_UDP.pkl',\n",
              " '27036_UDP.pkl',\n",
              " '2869_TCP.pkl',\n",
              " '3128_TCP.pkl',\n",
              " '3478_UDP.pkl',\n",
              " '3702_UDP.pkl',\n",
              " '3800_UDP.pkl',\n",
              " '40003_UDP.pkl',\n",
              " '40005_UDP.pkl',\n",
              " '40018_UDP.pkl',\n",
              " '40020_UDP.pkl',\n",
              " '40023_UDP.pkl',\n",
              " '40024_UDP.pkl',\n",
              " '40025_UDP.pkl',\n",
              " '40027_UDP.pkl',\n",
              " '40028_UDP.pkl',\n",
              " '40029_TCP.pkl',\n",
              " '40029_UDP.pkl',\n",
              " '40030_UDP.pkl',\n",
              " '40036_UDP.pkl',\n",
              " '4070_TCP.pkl',\n",
              " '43265_UDP.pkl',\n",
              " '443_TCP_Https.pkl',\n",
              " '443_UDP_Https.pkl',\n",
              " '45776_TCP.pkl',\n",
              " '465_TCP.pkl',\n",
              " '47993_UDP.pkl',\n",
              " '49001_UDP.pkl',\n",
              " '5004_UDP.pkl',\n",
              " '5005_UDP.pkl',\n",
              " '50321_UDP.pkl',\n",
              " '51413_UDP.pkl',\n",
              " '51654_UDP.pkl',\n",
              " '5222_TCP_Jabber.pkl',\n",
              " '5223_TCP_JabberSsl.pkl',\n",
              " '5351_UDP.pkl',\n",
              " '5353_UDP.pkl',\n",
              " '5355_UDP.pkl',\n",
              " '53_TCP_Dns.pkl',\n",
              " '53_UDP_Dns.pkl',\n",
              " '547_UDP_DhcPv6C.pkl',\n",
              " '57621_UDP.pkl',\n",
              " '5938_TCP.pkl',\n",
              " '5938_UDP.pkl',\n",
              " '67_UDP_DhcPc.pkl',\n",
              " '67_UDP_DhcPs.pkl',\n",
              " '6881_UDP.pkl',\n",
              " '6882_UDP.pkl',\n",
              " '6889_UDP.pkl',\n",
              " '6892_UDP.pkl',\n",
              " '6969_TCP.pkl',\n",
              " '6992_UDP.pkl',\n",
              " '80_TCP_HTTP.pkl',\n",
              " '8621_UDP.pkl',\n",
              " '8999_UDP.pkl',\n",
              " '9875_UDP.pkl',\n",
              " '995_TCP.pkl']"
            ]
          },
          "execution_count": 2,
          "metadata": {},
          "output_type": "execute_result"
        }
      ],
      "source": [
        "list_archive = glob('*.pkl')\n",
        "list_archive"
      ]
    },
    {
      "cell_type": "code",
      "execution_count": 7,
      "metadata": {},
      "outputs": [
        {
          "ename": "UnpicklingError",
          "evalue": "pickle data was truncated",
          "output_type": "error",
          "traceback": [
            "\u001b[1;31m---------------------------------------------------------------------------\u001b[0m",
            "\u001b[1;31mUnpicklingError\u001b[0m                           Traceback (most recent call last)",
            "\u001b[1;32m<ipython-input-7-f3412bc9c42c>\u001b[0m in \u001b[0;36m<module>\u001b[1;34m\u001b[0m\n\u001b[0;32m      1\u001b[0m \u001b[1;32mfor\u001b[0m \u001b[0mpicke_file\u001b[0m \u001b[1;32min\u001b[0m \u001b[0mlist_archive\u001b[0m\u001b[1;33m:\u001b[0m\u001b[1;33m\u001b[0m\u001b[1;33m\u001b[0m\u001b[0m\n\u001b[0;32m      2\u001b[0m     \u001b[0mfilename\u001b[0m \u001b[1;33m=\u001b[0m \u001b[0mstr\u001b[0m\u001b[1;33m(\u001b[0m\u001b[0mpicke_file\u001b[0m\u001b[1;33m)\u001b[0m\u001b[1;33m.\u001b[0m\u001b[0msplit\u001b[0m\u001b[1;33m(\u001b[0m\u001b[1;34m'.'\u001b[0m\u001b[1;33m)\u001b[0m\u001b[1;33m[\u001b[0m\u001b[1;36m0\u001b[0m\u001b[1;33m]\u001b[0m \u001b[1;33m+\u001b[0m \u001b[1;34m'.csv'\u001b[0m\u001b[1;33m\u001b[0m\u001b[1;33m\u001b[0m\u001b[0m\n\u001b[1;32m----> 3\u001b[1;33m     \u001b[0mtemporary\u001b[0m \u001b[1;33m=\u001b[0m \u001b[0mpd\u001b[0m\u001b[1;33m.\u001b[0m\u001b[0mread_pickle\u001b[0m\u001b[1;33m(\u001b[0m\u001b[0mpicke_file\u001b[0m\u001b[1;33m)\u001b[0m\u001b[1;33m\u001b[0m\u001b[1;33m\u001b[0m\u001b[0m\n\u001b[0m\u001b[0;32m      4\u001b[0m     \u001b[0mtemporary\u001b[0m\u001b[1;33m.\u001b[0m\u001b[0mto_csv\u001b[0m\u001b[1;33m(\u001b[0m\u001b[0mfilename\u001b[0m\u001b[1;33m,\u001b[0m \u001b[0msep\u001b[0m\u001b[1;33m=\u001b[0m\u001b[1;34m';'\u001b[0m\u001b[1;33m,\u001b[0m \u001b[0mencoding\u001b[0m\u001b[1;33m=\u001b[0m\u001b[1;34m'utf-8-sig'\u001b[0m\u001b[1;33m)\u001b[0m\u001b[1;33m\u001b[0m\u001b[1;33m\u001b[0m\u001b[0m\n\u001b[0;32m      5\u001b[0m \u001b[1;33m\u001b[0m\u001b[0m\n",
            "\u001b[1;32mC:\\ProgramData\\Anaconda3\\lib\\site-packages\\pandas\\io\\pickle.py\u001b[0m in \u001b[0;36mread_pickle\u001b[1;34m(filepath_or_buffer, compression, storage_options)\u001b[0m\n\u001b[0;32m    201\u001b[0m                     \u001b[1;31m# We want to silence any warnings about, e.g. moved modules.\u001b[0m\u001b[1;33m\u001b[0m\u001b[1;33m\u001b[0m\u001b[1;33m\u001b[0m\u001b[0m\n\u001b[0;32m    202\u001b[0m                     \u001b[0mwarnings\u001b[0m\u001b[1;33m.\u001b[0m\u001b[0msimplefilter\u001b[0m\u001b[1;33m(\u001b[0m\u001b[1;34m\"ignore\"\u001b[0m\u001b[1;33m,\u001b[0m \u001b[0mWarning\u001b[0m\u001b[1;33m)\u001b[0m\u001b[1;33m\u001b[0m\u001b[1;33m\u001b[0m\u001b[0m\n\u001b[1;32m--> 203\u001b[1;33m                     \u001b[1;32mreturn\u001b[0m \u001b[0mpickle\u001b[0m\u001b[1;33m.\u001b[0m\u001b[0mload\u001b[0m\u001b[1;33m(\u001b[0m\u001b[0mhandles\u001b[0m\u001b[1;33m.\u001b[0m\u001b[0mhandle\u001b[0m\u001b[1;33m)\u001b[0m  \u001b[1;31m# type: ignore[arg-type]\u001b[0m\u001b[1;33m\u001b[0m\u001b[1;33m\u001b[0m\u001b[0m\n\u001b[0m\u001b[0;32m    204\u001b[0m             \u001b[1;32mexcept\u001b[0m \u001b[0mexcs_to_catch\u001b[0m\u001b[1;33m:\u001b[0m\u001b[1;33m\u001b[0m\u001b[1;33m\u001b[0m\u001b[0m\n\u001b[0;32m    205\u001b[0m                 \u001b[1;31m# e.g.\u001b[0m\u001b[1;33m\u001b[0m\u001b[1;33m\u001b[0m\u001b[1;33m\u001b[0m\u001b[0m\n",
            "\u001b[1;31mUnpicklingError\u001b[0m: pickle data was truncated"
          ]
        }
      ],
      "source": [
        "for picke_file in list_archive:\n",
        "    filename = str(picke_file).split('.')[0] + '.csv'\n",
        "    temporary = pd.read_pickle(picke_file, compression='bz2')\n",
        "    temporary.to_csv(filename, sep=';', encoding='utf-8-sig')\n",
        "\n",
        "    print(f\"{filename} saved.\")"
      ]
    },
    {
      "cell_type": "code",
      "execution_count": null,
      "metadata": {
        "id": "8DM0wx_GsOUu"
      },
      "outputs": [],
      "source": [
        "df_final.to_pickle('appIdent.pkl', compression='bz2')\n",
        "df_final.to_csv('csv_file', sep=';', encoding='utf-8-sig', index=False)"
      ]
    },
    {
      "cell_type": "code",
      "execution_count": null,
      "metadata": {
        "id": "aQEHJDSP0qt4"
      },
      "outputs": [],
      "source": [
        "# for col in df_final.columns:\n",
        "#   display(col, df_final[col].unique())"
      ]
    }
  ],
  "metadata": {
    "colab": {
      "collapsed_sections": [],
      "name": "download_database.ipynb",
      "provenance": []
    },
    "interpreter": {
      "hash": "b3ba2566441a7c06988d0923437866b63cedc61552a5af99d1f4fb67d367b25f"
    },
    "kernelspec": {
      "display_name": "Python 3",
      "language": "python",
      "name": "python3"
    },
    "language_info": {
      "codemirror_mode": {
        "name": "ipython",
        "version": 3
      },
      "file_extension": ".py",
      "mimetype": "text/x-python",
      "name": "python",
      "nbconvert_exporter": "python",
      "pygments_lexer": "ipython3",
      "version": "3.8.8"
    }
  },
  "nbformat": 4,
  "nbformat_minor": 0
}
