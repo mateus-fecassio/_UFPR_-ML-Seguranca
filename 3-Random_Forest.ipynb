{
 "cells": [
  {
   "cell_type": "code",
   "execution_count": null,
   "metadata": {},
   "outputs": [],
   "source": [
    "# IMPORTAÇÃO DE OUTRAS BIBLIOTECAS\n",
    "import pandas as pd\n",
    "import numpy as np\n",
    "np.random.seed(10)\n",
    "\n",
    "import matplotlib.pyplot as plt\n",
    "import matplotlib.pylab as pylab\n",
    "\n",
    "\n",
    "\n",
    "# IMPORTAÇÃO DAS BIBLIOTECAS DE MACHINE LEARNING\n",
    "# from sklearn.neighbors import KNeighborsClassifier\n",
    "from sklearn.ensemble import RandomForestClassifier\n",
    "# from sklearn.neural_network import MLPClassifier\n",
    "\n",
    "\n",
    "from sklearn import preprocessing\n",
    "from sklearn.model_selection import StratifiedKFold, train_test_split\n",
    "from sklearn.metrics import roc_curve, precision_recall_curve, auc, make_scorer, classification_report,  recall_score, accuracy_score, precision_score, confusion_matrix, f1_score\n",
    "\n",
    "\n",
    "classifier_name = 'Random Forest'\n",
    "classifier_roc_name = 'Curva ROC - Random Forest'\n"
   ]
  },
  {
   "cell_type": "code",
   "execution_count": null,
   "metadata": {},
   "outputs": [],
   "source": [
    "def plot_roc_curve_folds(fp, tp, n_folds, sup_title, clf_name):\n",
    "    fig, axs = plt.subplots(nrows=1, ncols=n_folds, sharey=True, sharex=True, figsize=(15,5))\n",
    "\n",
    "    for fold in range(n_folds):\n",
    "        axs[fold].plot(fp, tp)\n",
    "        axs[fold].set_title('Fold ' + str(fold))\n",
    "        axs[fold].set_xlabel('FP rate', fontsize=12)\n",
    "        axs[fold].set_ylabel('TP rate', fontsize=12)\n",
    "\n",
    "        axs[fold].grid(linewidth=0.25)\n",
    "\n",
    "        #remove bounding box around the graphs \n",
    "        axs[fold].spines['left'].set_visible(False)\n",
    "        axs[fold].spines['top'].set_visible(False)\n",
    "        axs[fold].spines['right'].set_visible(False)  \n",
    "\n",
    "    fig.tight_layout()\n",
    "    fig.subplots_adjust(top=0.88)\n",
    "    fig.suptitle(sup_title)\n",
    "\n",
    "    fig.savefig(f\"{clf_name}_curves.png\")\n"
   ]
  },
  {
   "cell_type": "code",
   "execution_count": null,
   "metadata": {},
   "outputs": [],
   "source": [
    "# registros = pd.read_csv('dataset.csv', sep=';', encoding='utf-8-sig')\n",
    "registros = pd.read_pickle('dataset.pkl', compression='bz2')\n",
    "registros"
   ]
  },
  {
   "cell_type": "code",
   "execution_count": null,
   "metadata": {},
   "outputs": [],
   "source": [
    "# extração do vetor de caracteristicas X (Multidimensional), retirando o label da classe\n",
    "X = registros.drop(columns={'ApplicationProtocolName'})\n",
    "\n",
    "# extração do vetor de labels y (Uma dimensão só)\n",
    "y = registros['ApplicationProtocolName']\n",
    "y = y.map({'53_UDP_Dns': 0, '80_TCP_HTTP': 1}).astype(int)"
   ]
  },
  {
   "cell_type": "code",
   "execution_count": null,
   "metadata": {},
   "outputs": [],
   "source": [
    "X.head(5)"
   ]
  },
  {
   "cell_type": "code",
   "execution_count": null,
   "metadata": {},
   "outputs": [],
   "source": [
    "y.head(5)"
   ]
  },
  {
   "cell_type": "code",
   "execution_count": null,
   "metadata": {},
   "outputs": [],
   "source": [
    "X = X.to_numpy()\n",
    "y = y.to_numpy()"
   ]
  },
  {
   "cell_type": "code",
   "execution_count": null,
   "metadata": {},
   "outputs": [],
   "source": [
    "X_train_or, X_test_or, y_train_or, y_test_or = train_test_split(X, y, test_size=0.2, random_state = 40)\n",
    "\n",
    "print(\"Lenght train: {} - {:.2f}%\".format(len(y_train_or), len(y_train_or)/ len(y)*100))\n",
    "print(\"Lenght test:  {} - {:.2f}%\".format(len(y_test_or), len(y_test_or)/ len(y)*100))\n",
    "\n",
    "# Normalização dos dados\n",
    "scaler = preprocessing.MinMaxScaler()\n",
    "X_train_or = scaler.fit_transform(X_train_or)\n",
    "X_test_or = scaler.fit_transform(X_test_or)"
   ]
  },
  {
   "cell_type": "code",
   "execution_count": null,
   "metadata": {},
   "outputs": [],
   "source": [
    "#INSTANCIA O CLASSIFICADOR\n",
    "classifier = RandomForestClassifier(n_estimators=100, max_depth = 15, max_features = 3 , min_samples_split = 3)"
   ]
  },
  {
   "cell_type": "code",
   "execution_count": null,
   "metadata": {},
   "outputs": [],
   "source": [
    "#Métricas do Fold\n",
    "K_FOLDS = 5\n",
    "skfold = StratifiedKFold(n_splits = K_FOLDS)\n",
    "skfold.get_n_splits(X_train_or, y_train_or)\n",
    "\n",
    "\n",
    "#Listas e dicionários utilizados\n",
    "fold_metrics = []\n",
    "FP_list = []\n",
    "TP_list = []\n",
    "TH_list = []\n",
    "\n",
    "metrics = {'acc': {}, 'f1score': {},  'recall': {},  'precision': {},  'report': {},  'confussion': {}}\n",
    "\n",
    "fold_count = 1\n",
    "for train_index, test_index in skfold.split(X_train_or, y_train_or):\n",
    "    print('Fold {} / {}'.format(fold_count, K_FOLDS))\n",
    "    len_train, len_test = len(train_index), len(test_index)\n",
    "    total = len_train + len_test\n",
    "\n",
    "    print( 'Train: {} {:.2f}% --- Valid: {} {:.2f}%'.format( len_train, (len_train/total)*100, len_test, (len_test/total)*100 ) )\n",
    "\n",
    "    X_train, X_test = X_train_or[train_index], X_train_or[test_index]\n",
    "    y_train, y_test = y_train_or[train_index], y_train_or[test_index]\n",
    "\n",
    "    print('Training...\\n')\n",
    "    classifier.fit(X_train, y_train.ravel())\n",
    "\n",
    "    # y_pred_train = classifier.predict(X_train)\n",
    "    prediction = classifier.predict(X_test)\n",
    "\n",
    "\n",
    "    #Cálculo das métricas\n",
    "    acc = accuracy_score(y_test, prediction)\n",
    "    f1score = f1_score(y_test, prediction)\n",
    "    recall = recall_score(y_test, prediction)\n",
    "    precision = precision_score(y_test, prediction)\n",
    "    report = classification_report(y_test,prediction)\n",
    "    confussion = confusion_matrix(y_test, prediction)\n",
    "    \n",
    "    metrics = {'acc': acc, 'f1score': f1score, 'recall': recall, 'precision': precision, 'report': report, 'confussion': confussion}\n",
    "    \n",
    "\n",
    "    #Cálculo das curvas ROC\n",
    "    y_pred_test_prob = classifier.predict_proba(X_test)[:, 1]\n",
    "\n",
    "    fpr, tpr, thr = roc_curve(y_test.ravel(), y_pred_test_prob)\n",
    "    FP_list.append(fpr)\n",
    "    TP_list.append(tpr)\n",
    "    TH_list.append(thr)\n",
    "\n",
    "    fold_metrics.append(metrics)\n",
    "    fold_count += 1\n"
   ]
  },
  {
   "cell_type": "code",
   "execution_count": null,
   "metadata": {},
   "outputs": [],
   "source": [
    "#IMPRESSÃO DAS MÉTRICAS AVALIADAS EM CADA FOLD (validação do conjunto de dados de treinamento)\n",
    "print ('--------- MÉTRICAS DE VALIDAÇÃO (POR K-FOLDS) ~~~~ {}:'.format(classifier_name))\n",
    "fold_count = 1\n",
    "for fold in fold_metrics:\n",
    "    print('Fold {} / {}'.format(fold_count, K_FOLDS))\n",
    "    for metric, value in fold.items():\n",
    "        print(metric, value)\n",
    "\n",
    "    fold_count += 1\n",
    "    print('\\n\\n')"
   ]
  },
  {
   "cell_type": "code",
   "execution_count": null,
   "metadata": {},
   "outputs": [],
   "source": [
    "# IMPRESSÃO DAS MÉTRICAS DE TESTE (utiliza um conjunto de dados que o classificador não viu em nenhuma etapa do k-fold)\n",
    "prediction = classifier.predict(X_test_or)\n",
    "\n",
    "print('--------- MÉTRICAS DO TESTE ~~~~ {}:'.format(classifier_name))\n",
    "print('Accuracy:', accuracy_score(y_test_or, prediction))\n",
    "print('F1 score:', f1_score(y_test_or, prediction))\n",
    "print('Recall:', recall_score(y_test_or, prediction))\n",
    "print('Precision:', precision_score(y_test_or, prediction))\n",
    "print('\\n Classification Report:\\n', classification_report(y_test_or,prediction))\n",
    "print('\\n Confussion Matrix:\\n',confusion_matrix(y_test_or, prediction))"
   ]
  },
  {
   "cell_type": "code",
   "execution_count": null,
   "metadata": {},
   "outputs": [],
   "source": [
    "plot_roc_curve_folds(FP_list, TP_list, K_FOLDS, classifier_roc_name, classifier_name)"
   ]
  }
 ],
 "metadata": {
  "interpreter": {
   "hash": "b8eaa7847e1ffdcd4615de5d59663f0a2f843661ca9bca929a618d503ae19d81"
  },
  "kernelspec": {
   "display_name": "Python 3.8.8 64-bit (conda)",
   "name": "python3"
  },
  "language_info": {
   "codemirror_mode": {
    "name": "ipython",
    "version": 3
   },
   "file_extension": ".py",
   "mimetype": "text/x-python",
   "name": "python",
   "nbconvert_exporter": "python",
   "pygments_lexer": "ipython3",
   "version": "3.8.11"
  },
  "orig_nbformat": 4
 },
 "nbformat": 4,
 "nbformat_minor": 2
}
